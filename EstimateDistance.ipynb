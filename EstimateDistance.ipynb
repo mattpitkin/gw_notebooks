{
 "cells": [
  {
   "cell_type": "markdown",
   "metadata": {},
   "source": [
    "# Parameter estimation example\n",
    "\n",
    "In this notebook we show how to do some simple parameter estimation on the binary neutron star coalescense signal GW170817. This uses data from the [LIGO Open Science Center (LOSC)](https://losc.ligo.org). Here we will compute the posterior probability distribution over the distance to the source and the coalescense time, whilst holding all other values fixed at assumed known values.\n",
    "\n",
    "The `readligo` module used below to read in a HDF5 file containing LIGO strain data can be extracted from the LOSC tutorial [here](https://losc.ligo.org/s/events/LOSC_Event_tutorial.zip). The data for GW170817 that we use is the cleaned data sampled at 4096 Hz in HDF5 format ([H1 data](https://dcc.ligo.org/public/0146/P1700349/001/H-H1_LOSC_CLN_4_V1-1187007040-2048.hdf5), [L1 data](https://dcc.ligo.org/public/0146/P1700349/001/L-L1_LOSC_CLN_4_V1-1187007040-2048.hdf5)). We only use data from one detector below, but both could be combined by defining a joint likelihood function."
   ]
  },
  {
   "cell_type": "code",
   "execution_count": 1,
   "metadata": {},
   "outputs": [],
   "source": [
    "%matplotlib inline\n",
    "\n",
    "from matplotlib import pyplot as pl\n",
    "import numpy as np\n",
    "\n",
    "import readligo as rl"
   ]
  },
  {
   "cell_type": "markdown",
   "metadata": {},
   "source": [
    "First, we define a function that generates and returns the $+$ and $\\times$-polarisation components of a frequency domain binary coalescense signal. This makes use of the [`XLALSimInspiralChooseFDWaveform()`](https://docs.ligo.org/lscsoft/lalsuite/lalsimulation/group___l_a_l_sim_inspiral__c.html#ga50d4b23c4b6a80e93d4ed5ea7d90113b) function from the [LALSimulation](https://docs.ligo.org/lscsoft/lalsuite/lalsimulation/index.html) library. Below, it is hardcoded to use the IMRPhenomPv2 waveform family, but [other waveform families](https://lscsoft.docs.ligo.org//lalsuite/lalsimulation/group___l_a_l_sim_inspiral__h.html#gab955e4603c588fe19b39e47870a7b69c) can be used instead."
   ]
  },
  {
   "cell_type": "code",
   "execution_count": 2,
   "metadata": {},
   "outputs": [],
   "source": [
    "import lal\n",
    "import lalsimulation\n",
    "\n",
    "def fdwaveform(phiref, deltaF, m1, m2, fmin, dist, incl, spin1x=0., spin1y=0., spin1z=0.,\n",
    "               spin2x=0., spin2y=0, spin2z=0., fmax=0, fref=None):\n",
    "    \"\"\"\n",
    "    A function to generate a frequency domain inspiral waveform. This function sets spin\n",
    "    parameters to zero, so all output are non-spinning waveforms. The reference frequency is set to fmin.\n",
    "    \n",
    "    This function does not include the antenna patterns, so is detector and sky position\n",
    "    independent.\n",
    "\n",
    "    Args:\n",
    "        phiref (float): the reference phase (rads)\n",
    "        deltaF (float): the frequency bin size (Hz)\n",
    "        m1 (float): the mass of the first component (solar masses)\n",
    "        m2 (float): the mass of the second component (solar masses)\n",
    "        fmin (float): the lower bound on frequency (Hz)\n",
    "        dist (float): the source distance (in Mpc)\n",
    "        incl (float): the source inclination angle (rads)\n",
    "        spin1x,y,z (float): the spin components of the first binary component\n",
    "        spin2x,y,z (float): the spin components of the second binary component\n",
    "        fmax (float): maximum frequency for signal (Hz) (default of 0 computes signal up to ISCO for TaylorF2)\n",
    "        fref (float): the reference frequency (Hz) (defaults to fmin)\n",
    "\n",
    "    Returns:\n",
    "        the plus and cross polarisation components of the signal in the frequency domain.\n",
    "    \"\"\"  \n",
    "\n",
    "    approx = lalsimulation.IMRPhenomPv2\n",
    "    #approx = lalsimulation.TaylorF2 # Taylor F2 approximant (you can change this to e.g. lalsimulation.IMRPhenomPv2)\n",
    "    if fref is None:\n",
    "        fref = fmin\n",
    " \n",
    "    hptilde, hctilde = lalsimulation.SimInspiralChooseFDWaveform(\n",
    "        m1*lal.MSUN_SI, m2*lal.MSUN_SI, spin1x, spin1y, spin1z, spin2x, spin2y, spin2z, dist*1e6*lal.PC_SI, incl,\n",
    "        phiref, 0., 0., 0., deltaF, fmin, fmax, fref, None, approx)\n",
    "\n",
    "    # return the frequency domain plus and cross waveforms\n",
    "    return hptilde.data.data, hctilde.data.data"
   ]
  },
  {
   "cell_type": "markdown",
   "metadata": {},
   "source": [
    "The function below computes the antenna reposonse (also known as antenna pattern, or beam function) for particular source location and polarisation angle impinging on a given detector at a given time (in GPS seconds). The function below can take in detector values of `'H1'`, `'L1'`, or `'V1'`, for the LIGO Hanford, LIGO Livingston, and Virgo detectors, respectively."
   ]
  },
  {
   "cell_type": "code",
   "execution_count": 3,
   "metadata": {},
   "outputs": [],
   "source": [
    "def antenna_response( gpsTime, ra, dec, psi, det ):\n",
    "    \"\"\"\n",
    "    Get the response of a detector to plus and cross polarisation signals.\n",
    "\n",
    "    Args:\n",
    "        gpsTime (float): the GPS time of the observations\n",
    "        ra (float): the right ascension of the source (rads)\n",
    "        dec (float): the declination of the source (rads)\n",
    "        psi (float): the polarisation angle of the source (rads)\n",
    "        det (str): a detector name (e.g., 'H1' for the LIGO Hanford detector)\n",
    "    \n",
    "    Returns:\n",
    "        The plus and cross response.\n",
    "    \"\"\"\n",
    "\n",
    "    gps = lal.LIGOTimeGPS( gpsTime )\n",
    "    gmst_rad = lal.GreenwichMeanSiderealTime(gps)\n",
    "\n",
    "    # create detector-name map\n",
    "    detMap = {'H1': lal.LALDetectorIndexLHODIFF,\n",
    "              'L1': lal.LALDetectorIndexLLODIFF,\n",
    "              'V1': lal.LALDetectorIndexVIRGODIFF,}\n",
    "\n",
    "    try:\n",
    "        detector=detMap[det]\n",
    "    except KeyError:\n",
    "        raise ValueError(\"ERROR. Key {} is not a valid detector name.\".format(det))\n",
    "\n",
    "    # get detector\n",
    "    detval = lal.CachedDetectors[detector]\n",
    "\n",
    "    response = detval.response\n",
    "\n",
    "    # actual computation of antenna factors\n",
    "    fp, fc = lal.ComputeDetAMResponse(response, ra, dec, psi, gmst_rad)\n",
    "\n",
    "    return fp, fc"
   ]
  },
  {
   "cell_type": "markdown",
   "metadata": {},
   "source": [
    "The function below defines the natural logarithm of the [likelihood function](https://en.wikipedia.org/wiki/Likelihood_function) that is commonly used in gravitational wave parameter estimation. The likelihood function is a [Gaussian likelihood](https://en.wikipedia.org/wiki/Normal_distribution), but taking in a complex frequency series for the data and model, and noise defined through the one-sided [power spectral density](https://en.wikipedia.org/wiki/Spectral_density#Power_spectral_density) of the data. A definition of this function can be found in, e.g., Equation 10 of [Veitch _et al_, PRD, **91**, 042003 (2015)](https://arxiv.org/abs/1409.7215), where we ignore the second line in their definition."
   ]
  },
  {
   "cell_type": "code",
   "execution_count": 4,
   "metadata": {},
   "outputs": [],
   "source": [
    "def loglikelihood(data, model, psd, deltaF):\n",
    "    \"\"\"\n",
    "    The log likelihood function.\n",
    "    \n",
    "    Args:\n",
    "        data (array): the complex frequency domain data\n",
    "        model (array): the complex frequency domain model\n",
    "        psd (array): the power spectral density estimate\n",
    "        deltaF (float): the frequency step size\n",
    "    \"\"\"\n",
    "\n",
    "    # get the difference between the data and the model\n",
    "    diff = data - model\n",
    "    \n",
    "    # whiten this (divide by the ASD (sqrt of the PSD))\n",
    "    diff /= np.sqrt(psd)\n",
    "\n",
    "    # make sure any infinite values are zero'd (e.g. caused by ASD values that are zero)\n",
    "    diff[~np.isfinite(diff)] = 0.\n",
    "\n",
    "    # get the cross product (d-m)(d-m)\n",
    "    chisq = np.vdot(diff, diff).real # the value will be real by definition, but we explicitly take the real part to discard the 0-values imaginary component\n",
    "    \n",
    "    chisq *= 2.*deltaF\n",
    "\n",
    "    # the log likelihood function\n",
    "    L = -chisq\n",
    "    \n",
    "    return L"
   ]
  },
  {
   "cell_type": "markdown",
   "metadata": {},
   "source": [
    "Below, we read in data for the LIGO Livingston detector, which has been downloaded to a known location. Alternatively, we could download the files to our current directory using the Python [requests](http://docs.python-requests.org/en/master/) module, with e.g.:\n",
    "\n",
    "```python\n",
    "import requests\n",
    "\n",
    "# set dictionary of HDF5 file names\n",
    "filenames = {'H1': 'H-H1_LOSC_CLN_4_V1-1187007040-2048.hdf5',\n",
    "             'L1': 'L-L1_LOSC_CLN_4_V1-1187007040-2048.hdf5'}\n",
    "\n",
    "# set the data URL\n",
    "baseurl = 'https://dcc.ligo.org/public/0146/P1700349/001/'\n",
    "\n",
    "det = 'L1'\n",
    "\n",
    "r = requests.get(baseurl + filenames[det])\n",
    "fp = open(filenames[det], 'wb')\n",
    "fp.write(r.content)\n",
    "fp.close()\n",
    "```\n",
    "\n",
    "The cell below also contains the trigger time for the signal (i.e., the time returned by the detection algorithm that detected the signal). In particular, this is the trigger time returned by the gstlal search pipeline for event [G298048](https://gracedb.ligo.org/events/view/G298048)."
   ]
  },
  {
   "cell_type": "code",
   "execution_count": 5,
   "metadata": {},
   "outputs": [],
   "source": [
    "%%capture\n",
    "\n",
    "# read in L1 data for GW170817\n",
    "hdffiles = {'H1': '/local/scratch/LIGO/GW170817/H-H1_LOSC_CLN_4_V1-1187007040-2048.hdf5',\n",
    "            'L1': '/local/scratch/LIGO/GW170817/L-L1_LOSC_CLN_4_V1-1187007040-2048.hdf5'}\n",
    "\n",
    "det = 'L1'\n",
    "\n",
    "strain, times, channeldic = rl.loaddata(hdffiles[det], tvec=True) # return timestamp vector with tvec=True\n",
    "\n",
    "srate = 1./(times[1]-times[0])         # set the sample rate\n",
    "trigtime = 1187008882.4457             # trigger time\n",
    "pidx = int((trigtime-times[0])*srate)  # index of signal trigger in the data time series"
   ]
  },
  {
   "cell_type": "markdown",
   "metadata": {},
   "source": [
    "Below, we set the duration of the data used for the parameter inference, and for the segment size for the power spectrum estimation. We use the slightly odd duration of 106.66666 seconds, as this was used for the analysis that produced results for the [Hubble constant](https://arxiv.org/abs/1710.05835) estimation paper. For the analsis segment we use up until 2 seconds past the end of the trigger time. "
   ]
  },
  {
   "cell_type": "code",
   "execution_count": 6,
   "metadata": {},
   "outputs": [],
   "source": [
    "# get 106.666 seconds of data up to 2 seconds after the peak\n",
    "dur = 106. + (2./3.)\n",
    "pads = 2\n",
    "\n",
    "sigdata = strain[pidx-int((dur-pads)*srate):pidx+int(pads*srate)] # data containing the signal\n",
    "t0 = times[pidx-int((dur-pads)*srate)]                            # start time of that data"
   ]
  },
  {
   "cell_type": "markdown",
   "metadata": {},
   "source": [
    "To estimate the power spectral density we will use the functions within LAL. In particular we will use the [`XLALREAL8AverageSpectrumMedian()`](https://docs.ligo.org/lscsoft/lalsuite/lal/group___time_freq_f_f_t__h.html#ga6401e383dfa49360cbd54b818589b3c6) function, which computes a spectrum from the median of a set of segments. This is used as it is the default for the [LALInference](https://arxiv.org/abs/1409.7215) parameter estimation codes, although the Welch method could also be used (but may be more biased by any load signals or glitches in the data used for the estimation). For the power spectrum each segment is [Tukey windowed](https://en.wikipedia.org/wiki/Window_function#Tukey_window), with a window created using the [`XLALCreateTukeyREAL8Window()`](https://docs.ligo.org/lscsoft/lalsuite/lal/group___window__h.html) function (the Tukey window from the [`scipy.signal`](https://docs.scipy.org/doc/scipy/reference/generated/scipy.signal.tukey.html) module could be used instead). "
   ]
  },
  {
   "cell_type": "code",
   "execution_count": 7,
   "metadata": {},
   "outputs": [],
   "source": [
    "# get running median PSD\n",
    "time = lal.LIGOTimeGPS(int(times[0]), 0) # set a GPS epoch for the time series (this can just be a \"dummy\" value)\n",
    "\n",
    "length = len(strain)    # the number of samples in the time series data\n",
    "nfft = int(dur*srate)   # number of time samples to use per FFT\n",
    "stride = int(dur*srate) # the \"stride\" for the next FFT (dictates how many FFTs are averaged and overlap) \n",
    "nsegs = int(length/nfft)\n",
    "\n",
    "deltaF = srate/nfft     # frequency step size\n",
    "nbin = int((nfft/2)+1)  # number of frequency bins\n",
    "deltaT = 1./srate # time step size\n",
    "\n",
    "# put data into a time series object\n",
    "data = lal.CreateREAL8TimeSeries(\"time data\", time, 0.0, deltaT, lal.DimensionlessUnit, nsegs*nfft)\n",
    "for i in range(nsegs*nfft):\n",
    "    data.data.data[i] = strain[i] # put the data into the REAL8TimeSeries\n",
    "\n",
    "# set the Tukey window\n",
    "alpha = 2*srate*0.4/nfft\n",
    "window = lal.CreateTukeyREAL8Window(nfft, alpha)\n",
    "\n",
    "# create an \"FFT plan\"\n",
    "FFTPlan = lal.CreateForwardREAL8FFTPlan(nfft, 1)\n",
    "\n",
    "# create a frequency series object to hold the PSD\n",
    "psdlalmedian = lal.CreateREAL8FrequencySeries(\"spectrum\", time, 0.0, deltaF, lal.DimensionlessUnit, nbin)\n",
    "\n",
    "# create the PSD using the median method\n",
    "lal.REAL8AverageSpectrumMedian(psdlalmedian, data, nfft, stride, window, FFTPlan);"
   ]
  },
  {
   "cell_type": "markdown",
   "metadata": {},
   "source": [
    "Below we set up source parameters for generating signal templates to compare against the data when producing our posterior probability distributions. We assume a fixed sky position, that for the galaxy NGC4993. The other values are set from the maximum _a posteriori_ parameter estimates from a fixed sky position [run](https://ldas-jobs.ligo.caltech.edu/~katerina.chatziioannou/O2/PE/G298048/ProductionRuns/Prod2/lalinferencenest/IMRPhenomPv2pseudoFourPN/128s/1187008882.45-0/V1H1L1/posplots.html) using the IMRPhenomPv2 waveform, as used for the [Hubble constant](https://arxiv.org/abs/1710.05835) estimation paper."
   ]
  },
  {
   "cell_type": "code",
   "execution_count": 9,
   "metadata": {},
   "outputs": [],
   "source": [
    "# create a signal model\n",
    "ra = 3.446157844    # use fixed position of NGC4993\n",
    "dec = -0.4080841591\n",
    "\n",
    "# component masses\n",
    "m1 = 1.72140419742\n",
    "m2 = 1.10859297829\n",
    "\n",
    "# this is used as the fiducial distance for waveform templates\n",
    "distance = 44.6889906553\n",
    "\n",
    "phiref = 2.60174675393   # reference phase\n",
    "psi = 0.860990548555     # polarisation angle\n",
    "timec = 1187008882.3802  # coalescense time\n",
    "\n",
    "# spin and orientation parameters\n",
    "thetaJN = 2.74719229269\n",
    "aspin1 = 0.264813928565\n",
    "aspin2 = 0.702414508316\n",
    "phi12 = 4.81306908412\n",
    "tilt1 = 2.58869030589\n",
    "tilt2 = 0.948965945788\n",
    "phiJL = 6.04852924541\n",
    "\n",
    "fmin = 24    # use frequencies above 24 Hz\n",
    "fref = 100   # reference frequency for spin/precession parameters\n",
    "fmax = 400   # use frequencies up to 400 Hz (this is an arbitrary choice)\n",
    "\n",
    "# get time delay from Earth center to a given detector to apply to template\n",
    "# create detector-name map\n",
    "detMap = {'H1': lal.LALDetectorIndexLHODIFF,\n",
    "          'L1': lal.LALDetectorIndexLLODIFF,\n",
    "          'V1': lal.LALDetectorIndexVIRGODIFF,}\n",
    "\n",
    "detector=detMap[det]\n",
    "detval = lal.CachedDetectors[detector]\n",
    "etime = lal.LIGOTimeGPS(int(timec), int(1e9*(timec-np.floor(timec))))\n",
    "tdelay = lal.TimeDelayFromEarthCenter(detval.location, ra, dec, etime)\n",
    "\n",
    "# indexes of min and max frequency ranges\n",
    "minidx = int(np.ceil(fmin/deltaF))\n",
    "maxidx = int(np.floor(fmax/deltaF))+1 # add 1 so the slice gets all the required values\n",
    "\n",
    "freqs = np.fft.rfftfreq(nfft, d=1./srate) # get the frequencies of the data/model\n",
    "\n",
    "# get a range of coalesence times to calculate the model at\n",
    "timeshifts = np.linspace(timec-1e-3, timec+1e-3, 200)\n",
    "\n",
    "# calculate signals model at a range of phis for a fixed distance\n",
    "sigmodels = []\n",
    "\n",
    "# get equivalent spin parameters for IMRPhenomPv2 signal model\n",
    "iota, spin1x, spin1y, spin1z, spin2x, spin2y, spin2z = lalsimulation.SimInspiralTransformPrecessingNewInitialConditions(\n",
    "                                                                     thetaJN, phiJL, tilt1,\n",
    "                                                                     tilt2, phi12, aspin1, aspin2,\n",
    "                                                                     m1*lal.MSUN_SI, m2*lal.MSUN_SI, fref, phiref)\n",
    "\n",
    "# calculate the signal model at the fiducial values\n",
    "hplus, hcross = fdwaveform(phiref, deltaF, m1, m2, fmin, distance, iota, spin1x=spin1x, spin1y=spin1y,\n",
    "                               spin1z=spin1z, spin2x=spin2x, spin2y=spin2y, spin2z=spin2z, fmax=fmax, fref=fref)\n",
    "\n",
    "# compute the antenna response\n",
    "Fp, Fx = antenna_response( timec, ra, dec, psi, det )\n",
    "\n",
    "# only get values in the required frequency range\n",
    "template = hplus[minidx:maxidx]*Fp + hcross[minidx:maxidx]*Fx\n",
    "\n",
    "# calculate the phase shifts required\n",
    "for i, t in enumerate(timeshifts):\n",
    "    dt = (t - t0) + tdelay\n",
    "    twopit = 2.*np.pi*dt\n",
    "    shifts = np.exp(-1j*twopit*freqs[minidx:maxidx])\n",
    "\n",
    "    # apply time shifts\n",
    "    sigmodels.append(template*shifts)"
   ]
  },
  {
   "cell_type": "markdown",
   "metadata": {},
   "source": [
    "Below we window and FFT the data that contains the signal and will be used for the parameter estimation. We use the LAL FFT functions, although the `numpy.fft.rfft` function could be used, with the caveat that it must be divided by the sample rate to have the same required definition as the equivalent LAL function, e.g.\n",
    "\n",
    "```python\n",
    "# using numpy FFT function\n",
    "fdata = np.fft.rfft(window.data.data*sigdata)/srate\n",
    "```"
   ]
  },
  {
   "cell_type": "code",
   "execution_count": 10,
   "metadata": {},
   "outputs": [],
   "source": [
    "# window and FFT the data\n",
    "# create the frequency series that will contain the FFT\n",
    "lalfft = lal.CreateCOMPLEX16FrequencySeries(\"spectrum\", time, 0.0, deltaF, lal.DimensionlessUnit, nbin)\n",
    "\n",
    "# create a time series to hold the windowed data\n",
    "windata = lal.CreateREAL8TimeSeries(\"time data\", time, 0.0, deltaT, lal.DimensionlessUnit, len(sigdata))\n",
    "\n",
    "# window the data\n",
    "for i in range(len(sigdata)):\n",
    "    windata.data.data[i] = window.data.data[i]*sigdata[i] # put the data into the REAL8TimeSeries\n",
    "\n",
    "# perform the FFT\n",
    "lal.REAL8TimeFreqFFT(lalfft, windata, FFTPlan);"
   ]
  },
  {
   "cell_type": "markdown",
   "metadata": {},
   "source": [
    "Below we just extract the parts to the FFTed data and PSD over the range of frequencies that we require. We also perform a minor scaling of the FFTed data to account for the small loss in power due to the edges of the window."
   ]
  },
  {
   "cell_type": "code",
   "execution_count": 11,
   "metadata": {},
   "outputs": [],
   "source": [
    "# make signal, model and PSD the same length\n",
    "freqsc = freqs[minidx:maxidx]\n",
    "\n",
    "# include minor correction to account for loss of power from windowing\n",
    "fdatac = lalfft.data.data[minidx:maxidx]/np.sqrt(window.sumofsquares/window.data.length)\n",
    "\n",
    "psdc = psdlalmedian.data.data[minidx:maxidx]"
   ]
  },
  {
   "cell_type": "markdown",
   "metadata": {},
   "source": [
    "Now we can calculate the (natural logarithm of the) posterior probability distribution over distance and coalescense times. As the distance just scales the waveform amplitude we can just apply the appropriate scaling to each waveform model, rather than having to recalculate the waveform. We also apply a prior on the distance that is equivalent to having a uniform in volume prior, e.g.: if\n",
    "\n",
    "$$\n",
    "p(V|I) = C,\n",
    "$$\n",
    "\n",
    "where $C$ is a constant, and\n",
    "\n",
    "$$\n",
    "V = \\frac{4}{3} \\pi r^3,\n",
    "$$\n",
    "\n",
    "where $r$ is distance, then\n",
    "\n",
    "$$\n",
    "\\frac{{\\rm d}V}{{\\rm d}r} = 4 \\pi r^2,\n",
    "$$\n",
    "\n",
    "and\n",
    "\n",
    "$$\n",
    "p(r|I) = p(V|I) \\left| \\frac{{\\rm d}V}{{\\rm d}r} \\right| \\propto r^2\n",
    "$$\n",
    "\n",
    "and therefore\n",
    "\n",
    "$$\n",
    "\\ln{p(r|I)} = {\\rm const.} + 2\\ln{r}.\n",
    "$$"
   ]
  },
  {
   "cell_type": "code",
   "execution_count": 12,
   "metadata": {},
   "outputs": [],
   "source": [
    "dists = np.linspace(10., 100., 100)\n",
    "\n",
    "# calculate log likelihood over coalescense time and distance\n",
    "\n",
    "logL = np.zeros((len(timeshifts), len(dists)))\n",
    "for i in range(len(timeshifts)):\n",
    "    for j, dist in enumerate(dists):\n",
    "        tmodel = sigmodels[i] * distance / dist\n",
    "\n",
    "        L = loglikelihood(fdatac, tmodel, psdc, deltaF)\n",
    "\n",
    "        prior = 2.*np.log(dist) # compute uniform in volume prior\n",
    "\n",
    "        logL[i, j] = L + prior # include prior"
   ]
  },
  {
   "cell_type": "markdown",
   "metadata": {},
   "source": [
    "Below we plot the joint 2D posterior and then the individual posteriors marginalised over the other parameter. Note that we subtract the maximum of the the log posterior values to avoid numerical overflow issues.\n",
    "\n",
    "**It is very important to note that here we have assumed a fixed value of the inclination of the system through the $\\cos{\\theta_{JN}}$ parameter. This value is highly correlated with the distance and as such they should really both be jointly estimated, and $\\cos{\\theta_{JN}}$ marginalised over. Because of this, the distance estimated here purely from the gravitational wave data appears inconsistent with the distance to NCG 4993, and will look narrower than the posterior provided in the [Hubble constant estimation paper]((https://arxiv.org/abs/1710.05835).**"
   ]
  },
  {
   "cell_type": "code",
   "execution_count": 19,
   "metadata": {},
   "outputs": [
    {
     "data": {
      "image/png": "[encoded data removed]",
      "text/plain": [
       "<matplotlib.figure.Figure at 0x7f8d85c549b0>"
      ]
     },
     "metadata": {},
     "output_type": "display_data"
    }
   ],
   "source": [
    "# show posterior\n",
    "fig, ax = pl.subplots(figsize=(10,7))\n",
    "\n",
    "ax.imshow(np.flipud(np.exp(logL-np.max(logL.flatten()))), aspect='auto', extent=(dists[0], dists[-1], timeshifts[0]-timec, timeshifts[-1]-timec))\n",
    "ax.set_xlabel(r'distance (Mpc)');\n",
    "ax.set_ylabel(r'$t_c - {0:.2f}$ s'.format(timec));"
   ]
  },
  {
   "cell_type": "code",
   "execution_count": 14,
   "metadata": {},
   "outputs": [
    {
     "data": {
      "image/png": "[encoded data removed]",
      "text/plain": [
       "<matplotlib.figure.Figure at 0x7f8d87de6b38>"
      ]
     },
     "metadata": {},
     "output_type": "display_data"
    }
   ],
   "source": [
    "# plot the coalesence time posterior\n",
    "post = np.exp(logL-np.max(logL.flatten()))\n",
    "posttime = np.array([np.sum(p) for p in post])\n",
    "\n",
    "fig, ax = pl.subplots(figsize=(10,7))\n",
    "ax.plot(timeshifts-timec, posttime)\n",
    "ax.set_xlabel(r'$t_c - {0:.2f}$ s'.format(timec));"
   ]
  },
  {
   "cell_type": "code",
   "execution_count": 15,
   "metadata": {},
   "outputs": [
    {
     "data": {
      "image/png": "[encoded data removed]",
      "text/plain": [
       "<matplotlib.figure.Figure at 0x7f8d85ca4588>"
      ]
     },
     "metadata": {},
     "output_type": "display_data"
    }
   ],
   "source": [
    "# plot distance posterior\n",
    "postdist = np.array([np.sum(p) for p in post.T])\n",
    "\n",
    "fig, ax = pl.subplots(figsize=(10,7))\n",
    "ax.plot(dists, postdist)\n",
    "ax.set_xlabel(r'distance (Mpc)');"
   ]
  }
 ],
 "metadata": {
  "kernelspec": {
   "display_name": "Python (GW)",
   "language": "python",
   "name": "gw-python"
  },
  "language_info": {
   "codemirror_mode": {
    "name": "ipython",
    "version": 3
   },
   "file_extension": ".py",
   "mimetype": "text/x-python",
   "name": "python",
   "nbconvert_exporter": "python",
   "pygments_lexer": "ipython3",
   "version": "3.4.5"
  }
 },
 "nbformat": 4,
 "nbformat_minor": 2
}
