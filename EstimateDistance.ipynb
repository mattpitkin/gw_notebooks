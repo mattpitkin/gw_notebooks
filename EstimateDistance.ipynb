{
 "cells": [
  {
   "cell_type": "markdown",
   "metadata": {},
   "source": [
    "Calculate the distance posterior for GW170817."
   ]
  },
  {
   "cell_type": "code",
   "execution_count": 1,
   "metadata": {},
   "outputs": [],
   "source": [
    "%matplotlib inline\n",
    "\n",
    "from matplotlib import pyplot as pl\n",
    "import numpy as np\n",
    "\n",
    "import readligo as rl"
   ]
  },
  {
   "cell_type": "code",
   "execution_count": 2,
   "metadata": {},
   "outputs": [],
   "source": [
    "import lal\n",
    "import lalsimulation\n",
    "\n",
    "def fdwaveform(phiref, deltaF, m1, m2, fmin, dist, incl, spin1x=0., spin1y=0., spin1z=0.,\n",
    "               spin2x=0., spin2y=0, spin2z=0., fmax=0, fref=None):\n",
    "    \"\"\"\n",
    "    A function to generate a frequency domain inspiral waveform. This function sets spin\n",
    "    parameters to zero, so all output are non-spinning waveforms. The reference frequency is set to fmin.\n",
    "    \n",
    "    This function does not include the antenna patterns, so is detector and sky position\n",
    "    independent.\n",
    "\n",
    "    Args:\n",
    "        phiref (float): the reference phase (rads)\n",
    "        deltaF (float): the frequency bin size (Hz)\n",
    "        m1 (float): the mass of the first component (solar masses)\n",
    "        m2 (float): the mass of the second component (solar masses)\n",
    "        fmin (float): the lower bound on frequency (Hz)\n",
    "        dist (float): the source distance (in Mpc)\n",
    "        incl (float): the source inclination angle (rads)\n",
    "        fmax (float): maximum frequency for signal (Hz) (default of 0 computes signal up to ISCO for TaylorF2)\n",
    "        fref (float): the reference frequency (Hz) (defaults to fmin)\n",
    "\n",
    "    Returns:\n",
    "        the plus and cross polarisation components of the signal in the frequency domain.\n",
    "    \"\"\"  \n",
    "\n",
    "    approx = lalsimulation.IMRPhenomPv2\n",
    "    #approx = lalsimulation.TaylorF2 # Taylor F2 approximant (you can change this to e.g. lalsimulation.IMRPhenomPv2)\n",
    "    if fref is None:\n",
    "        fref = fmin\n",
    " \n",
    "    hptilde, hctilde = lalsimulation.SimInspiralChooseFDWaveform(\n",
    "        m1*lal.MSUN_SI, m2*lal.MSUN_SI, spin1x, spin1y, spin1z, spin2x, spin2y, spin2z, dist*1e6*lal.PC_SI, incl,\n",
    "        phiref, 0., 0., 0., deltaF, fmin, fmax, fref, None, approx)\n",
    "\n",
    "    # return the frequency domain plus and cross waveforms\n",
    "    return hptilde.data.data, hctilde.data.data"
   ]
  },
  {
   "cell_type": "code",
   "execution_count": 3,
   "metadata": {},
   "outputs": [],
   "source": [
    "def antenna_response( gpsTime, ra, dec, psi, det ):\n",
    "    \"\"\"\n",
    "    Get the response of a detector to plus and cross polarisation signals.\n",
    "\n",
    "    Args:\n",
    "        gpsTime (float): the GPS time of the observations\n",
    "        ra (float): the right ascension of the source (rads)\n",
    "        dec (float): the declination of the source (rads)\n",
    "        psi (float): the polarisation angle of the source (rads)\n",
    "        det (str): a detector name (e.g., 'H1' for the LIGO Hanford detector)\n",
    "    \n",
    "    Returns:\n",
    "        The plus and cross response.\n",
    "    \"\"\"\n",
    "    \n",
    "    gps = lal.LIGOTimeGPS( gpsTime )\n",
    "    gmst_rad = lal.GreenwichMeanSiderealTime(gps)\n",
    "\n",
    "    # create detector-name map\n",
    "    detMap = {'H1': lal.LALDetectorIndexLHODIFF,\n",
    "              'L1': lal.LALDetectorIndexLLODIFF,\n",
    "              'V1': lal.LALDetectorIndexVIRGODIFF,}\n",
    "\n",
    "    try:\n",
    "        detector=detMap[det]\n",
    "    except KeyError:\n",
    "        raise ValueError(\"ERROR. Key {} is not a valid detector name.\".format(det))\n",
    "\n",
    "    # get detector\n",
    "    detval = lal.CachedDetectors[detector]\n",
    "\n",
    "    response = detval.response\n",
    "\n",
    "    # actual computation of antenna factors\n",
    "    fp, fc = lal.ComputeDetAMResponse(response, ra, dec, psi, gmst_rad)\n",
    "\n",
    "    return fp, fc"
   ]
  },
  {
   "cell_type": "code",
   "execution_count": 4,
   "metadata": {},
   "outputs": [],
   "source": [
    "def loglikelihood(data, model, psd, deltaF):\n",
    "    \"\"\"\n",
    "    The log likelihood function.\n",
    "    \n",
    "    Args:\n",
    "        data (array): the complex frequency domain data\n",
    "        model (array): the complex frequency domain model\n",
    "        psd (array): the power spectral density estimate\n",
    "        deltaF (float): the frequency step size\n",
    "    \"\"\"\n",
    "\n",
    "    # get the difference between the data and the model\n",
    "    diff = data - model\n",
    "    \n",
    "    # whiten this (divide by the ASD (sqrt of the PSD))\n",
    "    diff /= np.sqrt(psd)\n",
    "\n",
    "    # make sure any infinite values are zero'd (e.g. caused by ASD values that are zero)\n",
    "    diff[~np.isfinite(diff)] = 0.\n",
    "\n",
    "    # get the cross product (d-m)(d-m)\n",
    "    chisq = np.vdot(diff, diff).real\n",
    "    \n",
    "    chisq *= 2*deltaF\n",
    "\n",
    "    # the log likelihood function\n",
    "    L = -chisq\n",
    "    \n",
    "    return L\n",
    "\n",
    "def loglikelihood2(data, model, psd, deltaT, N):\n",
    "    \"\"\"\n",
    "    The log likelihood function. Version used in lalinference.\n",
    "    \n",
    "    Args:\n",
    "        data (array): the complex frequency domain data\n",
    "        model (array): the complex frequency domain model\n",
    "        psd (array): the power spectral density estimate\n",
    "        deltaT (float): the time step size\n",
    "        N (int): number of samples in time series\n",
    "    \"\"\"\n",
    "\n",
    "    # get the difference between the data and the model\n",
    "    diff = data - model\n",
    "    \n",
    "    sigmasq = psd*deltaT**2\n",
    "\n",
    "    chisq = 0.\n",
    "    \n",
    "    TwoDeltaToverN = 2.*deltaT/N\n",
    "    \n",
    "    diffsq = diff.real**2 + diff.imag**2\n",
    "    \n",
    "    cs = TwoDeltaToverN*diffsq/sigmasq\n",
    "    \n",
    "    chisq = np.sum(cs[np.isfinite(cs)])\n",
    "\n",
    "    # the log likelihood function\n",
    "    L = -chisq\n",
    "    \n",
    "    return L\n"
   ]
  },
  {
   "cell_type": "code",
   "execution_count": 5,
   "metadata": {},
   "outputs": [
    {
     "name": "stderr",
     "output_type": "stream",
     "text": [
      "/local/environments/gw/gw-python/lib64/python3.4/importlib/_bootstrap.py:321: FutureWarning: Conversion of the second argument of issubdtype from `float` to `np.floating` is deprecated. In future, it will be treated as `np.float64 == np.dtype(float).type`.\n",
      "  return f(*args, **kwds)\n"
     ]
    }
   ],
   "source": [
    "# read in L1 data for GW170817\n",
    "\n",
    "hdffiles = {'H1': '/local/scratch/LIGO/GW170817/H-H1_LOSC_CLN_4_V1-1187007040-2048.hdf5',\n",
    "            'L1': '/local/scratch/LIGO/GW170817/L-L1_LOSC_CLN_4_V1-1187007040-2048.hdf5'}\n",
    "\n",
    "det = 'L1'\n",
    "\n",
    "strain, times, channeldic = rl.loaddata(hdffiles[det], tvec=True)"
   ]
  },
  {
   "cell_type": "code",
   "execution_count": 6,
   "metadata": {},
   "outputs": [
    {
     "name": "stdout",
     "output_type": "stream",
     "text": [
      "Sample rate is 4096.0 Hz\n"
     ]
    }
   ],
   "source": [
    "srate = 1./(times[1]-times[0])\n",
    "print('Sample rate is {} Hz'.format(srate))\n",
    "\n",
    "tpeak = 1842.43         # peak time of the signal\n",
    "pidx = int(tpeak*srate) # index of peak of signal"
   ]
  },
  {
   "cell_type": "code",
   "execution_count": 23,
   "metadata": {},
   "outputs": [],
   "source": [
    "# get 64 seconds of data up to (an arbitrary) 2 seconds after the peak\n",
    "#dur = 64 # number of seconds of data to get\n",
    "dur = 106. + (2./3.)\n",
    "pads = 2\n",
    "\n",
    "sigdata = strain[pidx-int((dur-pads)*srate):pidx+int(pads*srate)]"
   ]
  },
  {
   "cell_type": "code",
   "execution_count": 26,
   "metadata": {},
   "outputs": [
    {
     "ename": "RuntimeError",
     "evalue": "Inconsistent or invalid vector length",
     "output_type": "error",
     "traceback": [
      "\u001b[0;31m---------------------------------------------------------------------------\u001b[0m",
      "\u001b[0;31mRuntimeError\u001b[0m                              Traceback (most recent call last)",
      "\u001b[0;32m<ipython-input-26-a38948d850e3>\u001b[0m in \u001b[0;36m<module>\u001b[0;34m()\u001b[0m\n\u001b[1;32m     26\u001b[0m \u001b[0mpsdlalmedian\u001b[0m \u001b[0;34m=\u001b[0m \u001b[0mlal\u001b[0m\u001b[0;34m.\u001b[0m\u001b[0mCreateREAL8FrequencySeries\u001b[0m\u001b[0;34m(\u001b[0m\u001b[0;34m\"spectrum\"\u001b[0m\u001b[0;34m,\u001b[0m \u001b[0mtime\u001b[0m\u001b[0;34m,\u001b[0m \u001b[0;36m0.0\u001b[0m\u001b[0;34m,\u001b[0m \u001b[0mdeltaF\u001b[0m\u001b[0;34m,\u001b[0m \u001b[0mlal\u001b[0m\u001b[0;34m.\u001b[0m\u001b[0mDimensionlessUnit\u001b[0m\u001b[0;34m,\u001b[0m \u001b[0mnbin\u001b[0m\u001b[0;34m)\u001b[0m\u001b[0;34m\u001b[0m\u001b[0m\n\u001b[1;32m     27\u001b[0m \u001b[0;31m# create the PSD using the median method\u001b[0m\u001b[0;34m\u001b[0m\u001b[0;34m\u001b[0m\u001b[0m\n\u001b[0;32m---> 28\u001b[0;31m \u001b[0mlal\u001b[0m\u001b[0;34m.\u001b[0m\u001b[0mREAL8AverageSpectrumMedian\u001b[0m\u001b[0;34m(\u001b[0m\u001b[0mpsdlalmedian\u001b[0m\u001b[0;34m,\u001b[0m \u001b[0mdata\u001b[0m\u001b[0;34m,\u001b[0m \u001b[0mnfft\u001b[0m\u001b[0;34m,\u001b[0m \u001b[0mstride\u001b[0m\u001b[0;34m,\u001b[0m \u001b[0mwindow\u001b[0m\u001b[0;34m,\u001b[0m \u001b[0mFFTPlan\u001b[0m\u001b[0;34m)\u001b[0m\u001b[0;34m;\u001b[0m\u001b[0;34m\u001b[0m\u001b[0m\n\u001b[0m",
      "\u001b[0;31mRuntimeError\u001b[0m: Inconsistent or invalid vector length"
     ]
    }
   ],
   "source": [
    "# get running median PSD\n",
    "time = lal.LIGOTimeGPS(int(times[0]), 0) # set a GPS epoch for the time series (this can just be a \"dummy\" value)\n",
    "\n",
    "length = len(strain)    # the number of samples in the time series data\n",
    "nfft = int(dur*srate)   # number of time samples to use per FFT\n",
    "stride = int(dur*srate) # the \"stride\" for the next FFT (dictates how many FFTs are averaged and overlap) \n",
    "\n",
    "deltaF = srate/nfft     # frequency step size\n",
    "nbin = int((nfft/2)+1)  # number of frequency bins\n",
    "deltaT = 1./srate # time step size\n",
    "\n",
    "# put data into a time series object\n",
    "data = lal.CreateREAL8TimeSeries(\"time data\", time, 0.0, deltaT, lal.DimensionlessUnit, length)\n",
    "for i in range(length):\n",
    "    data.data.data[i] = strain[i] # put the data into the REAL8TimeSeries\n",
    "\n",
    "# set the Tukey window\n",
    "alpha = 2*srate*0.4/nfft\n",
    "window = lal.CreateTukeyREAL8Window(nfft, alpha)\n",
    "\n",
    "# create an \"FFT plan\"\n",
    "FFTPlan = lal.CreateForwardREAL8FFTPlan(nfft, 1)\n",
    "\n",
    "psdlalmedian = lal.CreateREAL8FrequencySeries(\"spectrum\", time, 0.0, deltaF, lal.DimensionlessUnit, nbin)\n",
    "# create the PSD using the median method\n",
    "lal.REAL8AverageSpectrumMedian(psdlalmedian, data, nfft, stride, window, FFTPlan);"
   ]
  },
  {
   "cell_type": "code",
   "execution_count": 25,
   "metadata": {},
   "outputs": [
    {
     "data": {
      "text/plain": [
       "218454"
      ]
     },
     "execution_count": 25,
     "metadata": {},
     "output_type": "execute_result"
    }
   ],
   "source": [
    "nbin"
   ]
  },
  {
   "cell_type": "code",
   "execution_count": 9,
   "metadata": {},
   "outputs": [],
   "source": [
    "# create a signal model\n",
    "ra = 3.446157844    # use fixed position of NGC4993\n",
    "dec = -0.4080841591\n",
    "\n",
    "# masses (use MAP masses from Prod-2 BBH fixed sky position run https://ldas-jobs.ligo.caltech.edu/~katerina.chatziioannou/O2/PE/G298048/ProductionRuns/Prod2/lalinferencenest/IMRPhenomPv2pseudoFourPN/128s/1187008882.45-0/V1H1L1/posplots.html)\n",
    "# (maybe also try TalyorF2 run https://ldas-jobs.ligo-la.caltech.edu/~aaron.zimmerman/O2/G298048/Exp21_FixedSky/lalinferencenest/IMRPhenomPv2pseudoFourPN/128s/1187008882.45-0/V1H1L1/posplots.html)\n",
    "m1 = 1.72140419742\n",
    "m2 = 1.10859297829\n",
    "\n",
    "distance = 44.6889906553\n",
    "\n",
    "phiref = 2.60174675393\n",
    "psi = 0.860990548555\n",
    "timec = 1187008882.4294\n",
    "\n",
    "thetaJN = 2.74719229269\n",
    "aspin1 = 0.264813928565\n",
    "aspin2 = 0.702414508316\n",
    "phi12 = 4.81306908412\n",
    "tilt1 = 2.58869030589\n",
    "tilt2 = 0.948965945788\n",
    "phiJL = 6.04852924541\n",
    "\n",
    "fmin = 24\n",
    "fref = 100\n",
    "fmax = 400 # only compute signal up to 400 Hz\n",
    "\n",
    "iota, spin1x, spin1y, spin1z, spin2x, spin2y, spin2z = lalsimulation.SimInspiralTransformPrecessingNewInitialConditions(\n",
    "                                                                     thetaJN, phiJL, tilt1,\n",
    "                                                                     tilt2, phi12, aspin1, aspin2,\n",
    "                                                                     m1*lal.MSUN_SI, m2*lal.MSUN_SI, fref,\n",
    "                                                                     phiref)\n",
    "\n",
    "hplus, hcross = fdwaveform(phiref, deltaF, m1, m2, fmin, distance, iota, fmax=fmax, fref=fref)\n",
    "\n",
    "Fp, Fx = antenna_response( timec, ra, dec, psi, det )\n",
    "\n",
    "sigmodel = hplus*Fp + hcross*Fx\n",
    "\n",
    "# get time delay to apply to template\n",
    "# create detector-name map\n",
    "detMap = {'H1': lal.LALDetectorIndexLHODIFF,\n",
    "          'L1': lal.LALDetectorIndexLLODIFF,\n",
    "          'V1': lal.LALDetectorIndexVIRGODIFF,}\n",
    "\n",
    "detector=detMap[det]\n",
    "detval = lal.CachedDetectors[detector]\n",
    "etime = lal.LIGOTimeGPS(int(timec), int(1e9*(timec-np.floor(timec))))\n",
    "tdelay = lal.TimeDelayFromEarthCenter(detval.location, ra, dec, etime)\n",
    "\n",
    "# indexes of min and max frequency ranges\n",
    "minidx = int(fmin/deltaF)\n",
    "maxidx = int(fmax/deltaF)\n",
    "\n",
    "dt = (times[0] - timec) + tdelay\n",
    "twopit = 2.*np.pi*dt\n",
    "freqs = np.fft.rfftfreq(nfft, d=1./srate)\n",
    "shifts = np.exp(-1j*twopit*freqs[minidx:maxidx])\n",
    "\n",
    "# calculate at a range of phiref values\n",
    "phis = np.arange(0., 2*np.pi, 2*np.pi/100)\n",
    "\n",
    "# calculate signals model at a range of phis for a fixed distance\n",
    "sigmodels = []\n",
    "for phi in phis:\n",
    "    # get equivalent spin parameters for IMRPhenomPv2 signal model\n",
    "    iota, spin1x, spin1y, spin1z, spin2x, spin2y, spin2z = lalsimulation.SimInspiralTransformPrecessingNewInitialConditions(\n",
    "                                                                     thetaJN, phiJL, tilt1,\n",
    "                                                                     tilt2, phi12, aspin1, aspin2,\n",
    "                                                                     m1*lal.MSUN_SI, m2*lal.MSUN_SI, fref,\n",
    "                                                                     phi)\n",
    "\n",
    "    hplus, hcross = fdwaveform(phi, deltaF, m1, m2, fmin, distance, iota, spin1x=spin1x, spin1y=spin1y,\n",
    "                               spin1z=spin1z, spin2x=spin2x, spin2y=spin2y, spin2z=spin2z, fmax=fmax, fref=fref)\n",
    "\n",
    "    # only get values in the required frequency range\n",
    "    template = hplus[minidx:maxidx]*Fp + hcross[minidx:maxidx]*Fx\n",
    "\n",
    "    # apply time shifts\n",
    "    template *= shifts\n",
    "\n",
    "    sigmodels.append(template)"
   ]
  },
  {
   "cell_type": "code",
   "execution_count": 18,
   "metadata": {},
   "outputs": [],
   "source": [
    "# calculate signals model at a range of times for a fixed distance\n",
    "\n",
    "timeshifts = np.linspace(timec-0.1, timec+0.1, 100)\n",
    "sigmodels = []\n",
    "\n",
    "for i, t in enumerate(timeshifts):\n",
    "    dt = (times[0] - t) + tdelay\n",
    "    twopit = 2.*np.pi*dt\n",
    "    shifts = np.exp(-1j*twopit*freqs[minidx:maxidx])\n",
    "\n",
    "    # get equivalent spin parameters for IMRPhenomPv2 signal model\n",
    "    iota, spin1x, spin1y, spin1z, spin2x, spin2y, spin2z = lalsimulation.SimInspiralTransformPrecessingNewInitialConditions(\n",
    "                                                                     thetaJN, phiJL, tilt1,\n",
    "                                                                     tilt2, phi12, aspin1, aspin2,\n",
    "                                                                     m1*lal.MSUN_SI, m2*lal.MSUN_SI, fref,\n",
    "                                                                     phiref)\n",
    "\n",
    "    hplus, hcross = fdwaveform(phiref, deltaF, m1, m2, fmin, distance, iota, spin1x=spin1x, spin1y=spin1y,\n",
    "                               spin1z=spin1z, spin2x=spin2x, spin2y=spin2y, spin2z=spin2z, fmax=fmax, fref=fref)\n",
    "    # only get values in the required frequency range\n",
    "    template = hplus[minidx:maxidx]*Fp + hcross[minidx:maxidx]*Fx\n",
    "\n",
    "    # apply time shifts\n",
    "    template *= shifts\n",
    "\n",
    "    sigmodels.append(template)"
   ]
  },
  {
   "cell_type": "code",
   "execution_count": 11,
   "metadata": {},
   "outputs": [
    {
     "data": {
      "text/plain": [
       "[<matplotlib.lines.Line2D at 0x7f4157335710>]"
      ]
     },
     "execution_count": 11,
     "metadata": {},
     "output_type": "execute_result"
    },
    {
     "data": {
      "image/png": "[encoded data removed]",
      "text/plain": [
       "<matplotlib.figure.Figure at 0x7f422c88ab38>"
      ]
     },
     "metadata": {},
     "output_type": "display_data"
    }
   ],
   "source": [
    "# window and FFT the data\n",
    "# try LAL FFT\n",
    "lalfft = lal.CreateCOMPLEX16FrequencySeries(\"spectrum\", time, 0.0, deltaF, lal.DimensionlessUnit, nbin)\n",
    "\n",
    "windata = lal.CreateREAL8TimeSeries(\"time data\", time, 0.0, deltaT, lal.DimensionlessUnit, len(sigdata))\n",
    "for i in range(len(sigdata)):\n",
    "    windata.data.data[i] = window.data.data[i]*sigdata[i] # put the data into the REAL8TimeSeries\n",
    "\n",
    "lal.REAL8TimeFreqFFT(lalfft, windata, FFTPlan);\n",
    "\n",
    "# above should be the same as numpy's rfft (with the former being 1/srate smaller than the latter)\n",
    "fdata = np.fft.rfft(window.data.data*sigdata)\n",
    "\n",
    "# just compare FFTs as a sanity check\n",
    "pl.semilogy(freqs, np.abs(fdata/srate)**2, 'r')\n",
    "pl.semilogy(freqs, np.abs(lalfft.data.data)**2, 'b--')"
   ]
  },
  {
   "cell_type": "code",
   "execution_count": 12,
   "metadata": {},
   "outputs": [
    {
     "name": "stdout",
     "output_type": "stream",
     "text": [
      "48128 48128 48128\n"
     ]
    }
   ],
   "source": [
    "# make signal, model and PSD the same length\n",
    "freqsc = freqs[minidx:maxidx]\n",
    "\n",
    "fdatac = lalfft.data.data[minidx:maxidx]\n",
    "sigmodelc = sigmodel[minidx:maxidx]\n",
    "psdc = psdlalmedian.data.data[minidx:maxidx]\n",
    "\n",
    "print(len(fdatac), len(psdc), len(sigmodelc))"
   ]
  },
  {
   "cell_type": "code",
   "execution_count": 19,
   "metadata": {},
   "outputs": [],
   "source": [
    "dists = np.linspace(10., 100., 100)\n",
    "\n",
    "# calculate log likelihood over phi and distance\n",
    "#logL = np.zeros((len(phis), len(dists)))\n",
    "logL = np.zeros((len(timeshifts), len(dists)))\n",
    "#logL2 = np.zeros((len(timeshifts), len(dists)))\n",
    "for i in range(len(timeshifts)):\n",
    "    for j, dist in enumerate(dists):\n",
    "        tmodel = sigmodels[i] * distance / dist\n",
    "\n",
    "        L = loglikelihood(fdatac, tmodel, psdc, deltaF)\n",
    "        logL[i, j] = L# + 2*np.log(dist) # include prior\n",
    "        \n",
    "        #L = loglikelihood2(fdatac, tmodel, psdc, deltaT, nfft)\n",
    "        #logL2[i, j] = L"
   ]
  },
  {
   "cell_type": "code",
   "execution_count": 20,
   "metadata": {},
   "outputs": [
    {
     "data": {
      "text/plain": [
       "<matplotlib.image.AxesImage at 0x7f41548dc2e8>"
      ]
     },
     "execution_count": 20,
     "metadata": {},
     "output_type": "execute_result"
    },
    {
     "data": {
      "image/png": "[encoded data removed]",
      "text/plain": [
       "<matplotlib.figure.Figure at 0x7f415493fd68>"
      ]
     },
     "metadata": {},
     "output_type": "display_data"
    }
   ],
   "source": [
    "# show posterior\n",
    "pl.imshow(np.exp(logL-np.max(logL.flatten())))"
   ]
  },
  {
   "cell_type": "code",
   "execution_count": 21,
   "metadata": {},
   "outputs": [
    {
     "data": {
      "text/plain": [
       "[<matplotlib.lines.Line2D at 0x7f422c89ad30>]"
      ]
     },
     "execution_count": 21,
     "metadata": {},
     "output_type": "execute_result"
    },
    {
     "data": {
      "image/png": "[encoded data removed]",
      "text/plain": [
       "<matplotlib.figure.Figure at 0x7f415493fcc0>"
      ]
     },
     "metadata": {},
     "output_type": "display_data"
    }
   ],
   "source": [
    "# plot phi posterior\n",
    "post = np.exp(logL-np.max(logL.flatten()))\n",
    "postphi = np.array([np.sum(p) for p in post])\n",
    "pl.plot(timeshifts-timec, postphi)"
   ]
  },
  {
   "cell_type": "code",
   "execution_count": 22,
   "metadata": {},
   "outputs": [
    {
     "data": {
      "text/plain": [
       "[<matplotlib.lines.Line2D at 0x7f4154901b00>]"
      ]
     },
     "execution_count": 22,
     "metadata": {},
     "output_type": "execute_result"
    },
    {
     "data": {
      "image/png": "[encoded data removed]",
      "text/plain": [
       "<matplotlib.figure.Figure at 0x7f415493f7b8>"
      ]
     },
     "metadata": {},
     "output_type": "display_data"
    }
   ],
   "source": [
    "# plot distance posterior\n",
    "postdist = np.array([np.sum(p) for p in post.T])\n",
    "pl.plot(dists, post[15,:]) #postdist)"
   ]
  },
  {
   "cell_type": "code",
   "execution_count": null,
   "metadata": {},
   "outputs": [],
   "source": [
    "3000e3/3e8"
   ]
  },
  {
   "cell_type": "code",
   "execution_count": null,
   "metadata": {},
   "outputs": [],
   "source": [
    "pl.semilogy(freqsc, np.abs(fdatac)**2, 'r--')\n",
    "pl.semilogy(freqsc, psdc, 'b')\n",
    "pl.semilogy(freqsc, np.abs(sigmodels[0])**2, 'g')"
   ]
  },
  {
   "cell_type": "code",
   "execution_count": null,
   "metadata": {},
   "outputs": [],
   "source": [
    "pl.plot(freqsc, sigmodels[0].real)"
   ]
  },
  {
   "cell_type": "markdown",
   "metadata": {},
   "source": [
    "Below we check that the PSD whitens the data as expected."
   ]
  },
  {
   "cell_type": "code",
   "execution_count": null,
   "metadata": {},
   "outputs": [],
   "source": [
    "whitedata = 2.*np.sqrt(deltaF)*fdatac.real/np.sqrt(psdc)\n",
    "\n",
    "pl.plot(freqsc, 2.*np.sqrt(deltaF)*fdatac.real/np.sqrt(psdc))\n",
    "\n",
    "print('Standard deviation of data {}'.format(np.std(whitedata)))"
   ]
  },
  {
   "cell_type": "code",
   "execution_count": null,
   "metadata": {},
   "outputs": [],
   "source": [
    "pl.hist(2.*np.sqrt(deltaF)*fdatac.real/np.sqrt(psdc), bins=20)"
   ]
  },
  {
   "cell_type": "code",
   "execution_count": null,
   "metadata": {},
   "outputs": [],
   "source": [
    "pl.plot(freqsc, 2.*np.sqrt(deltaF)*sigmodels[0,0].real/np.sqrt(psdc))"
   ]
  },
  {
   "cell_type": "code",
   "execution_count": null,
   "metadata": {},
   "outputs": [],
   "source": [
    "np.sqrt(np.sum((2.*np.sqrt(deltaF)*sigmodels[0,0].real*(distance/dists[19])/np.sqrt(psdc))**2))"
   ]
  },
  {
   "cell_type": "code",
   "execution_count": null,
   "metadata": {},
   "outputs": [],
   "source": [
    "np.abs(np.vdot(sigmodelc, sigmodels[0]))/np.vdot(sigmodelc, sigmodelc).real"
   ]
  },
  {
   "cell_type": "code",
   "execution_count": null,
   "metadata": {},
   "outputs": [],
   "source": []
  }
 ],
 "metadata": {
  "kernelspec": {
   "display_name": "Python (GW)",
   "language": "python",
   "name": "gw-python"
  },
  "language_info": {
   "codemirror_mode": {
    "name": "ipython",
    "version": 3
   },
   "file_extension": ".py",
   "mimetype": "text/x-python",
   "name": "python",
   "nbconvert_exporter": "python",
   "pygments_lexer": "ipython3",
   "version": "3.4.5"
  }
 },
 "nbformat": 4,
 "nbformat_minor": 2
}
